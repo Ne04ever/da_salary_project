{
 "cells": [
  {
   "cell_type": "code",
   "execution_count": 1,
   "id": "ad41390a",
   "metadata": {},
   "outputs": [
    {
     "data": {
      "text/plain": [
       "(2253, 16)"
      ]
     },
     "execution_count": 1,
     "metadata": {},
     "output_type": "execute_result"
    }
   ],
   "source": [
    "import pandas as pd\n",
    "salary_df_path ='C:/Users/Neo4ever/Desktop/da_salary/DataAnalyst.csv' #downloaded form kaggle\n",
    "salary_df= pd.read_csv(salary_df_path)\n",
    "salary_df.shape\n",
    "\n"
   ]
  },
  {
   "cell_type": "code",
   "execution_count": 2,
   "id": "8e0db097",
   "metadata": {},
   "outputs": [
    {
     "data": {
      "text/html": [
       "<div>\n",
       "<style scoped>\n",
       "    .dataframe tbody tr th:only-of-type {\n",
       "        vertical-align: middle;\n",
       "    }\n",
       "\n",
       "    .dataframe tbody tr th {\n",
       "        vertical-align: top;\n",
       "    }\n",
       "\n",
       "    .dataframe thead th {\n",
       "        text-align: right;\n",
       "    }\n",
       "</style>\n",
       "<table border=\"1\" class=\"dataframe\">\n",
       "  <thead>\n",
       "    <tr style=\"text-align: right;\">\n",
       "      <th></th>\n",
       "      <th>Unnamed: 0</th>\n",
       "      <th>Job Title</th>\n",
       "      <th>Salary Estimate</th>\n",
       "      <th>Job Description</th>\n",
       "      <th>Rating</th>\n",
       "      <th>Company Name</th>\n",
       "      <th>Location</th>\n",
       "      <th>Headquarters</th>\n",
       "      <th>Size</th>\n",
       "      <th>Founded</th>\n",
       "      <th>Type of ownership</th>\n",
       "      <th>Industry</th>\n",
       "      <th>Sector</th>\n",
       "      <th>Revenue</th>\n",
       "      <th>Competitors</th>\n",
       "      <th>Easy Apply</th>\n",
       "    </tr>\n",
       "  </thead>\n",
       "  <tbody>\n",
       "    <tr>\n",
       "      <th>833</th>\n",
       "      <td>833</td>\n",
       "      <td>Data Analyst Junior</td>\n",
       "      <td>$42K-$76K (Glassdoor est.)</td>\n",
       "      <td>Job Description\\nJob description\\nInterpret da...</td>\n",
       "      <td>5.0</td>\n",
       "      <td>Staffigo Technical Services, LLC\\n5.0</td>\n",
       "      <td>Chicago, IL</td>\n",
       "      <td>Woodridge, IL</td>\n",
       "      <td>51 to 200 employees</td>\n",
       "      <td>2008</td>\n",
       "      <td>Company - Private</td>\n",
       "      <td>IT Services</td>\n",
       "      <td>Information Technology</td>\n",
       "      <td>$50 to $100 million (USD)</td>\n",
       "      <td>-1</td>\n",
       "      <td>-1</td>\n",
       "    </tr>\n",
       "    <tr>\n",
       "      <th>505</th>\n",
       "      <td>505</td>\n",
       "      <td>Junior Data Analyst</td>\n",
       "      <td>$30K-$54K (Glassdoor est.)</td>\n",
       "      <td>Job Description\\nJob description\\nInterpret da...</td>\n",
       "      <td>5.0</td>\n",
       "      <td>Staffigo Technical Services, LLC\\n5.0</td>\n",
       "      <td>Gainesville, FL</td>\n",
       "      <td>Woodridge, IL</td>\n",
       "      <td>51 to 200 employees</td>\n",
       "      <td>2008</td>\n",
       "      <td>Company - Private</td>\n",
       "      <td>IT Services</td>\n",
       "      <td>Information Technology</td>\n",
       "      <td>$50 to $100 million (USD)</td>\n",
       "      <td>-1</td>\n",
       "      <td>-1</td>\n",
       "    </tr>\n",
       "    <tr>\n",
       "      <th>925</th>\n",
       "      <td>925</td>\n",
       "      <td>Data Warehouse Analyst</td>\n",
       "      <td>$47K-$76K (Glassdoor est.)</td>\n",
       "      <td>Job description:\\nWorking within IT to transla...</td>\n",
       "      <td>5.0</td>\n",
       "      <td>Purity Technology LLC\\n5.0</td>\n",
       "      <td>Houston, TX</td>\n",
       "      <td>Cypress, TX</td>\n",
       "      <td>1 to 50 employees</td>\n",
       "      <td>-1</td>\n",
       "      <td>Company - Private</td>\n",
       "      <td>-1</td>\n",
       "      <td>-1</td>\n",
       "      <td>Unknown / Non-Applicable</td>\n",
       "      <td>-1</td>\n",
       "      <td>-1</td>\n",
       "    </tr>\n",
       "    <tr>\n",
       "      <th>356</th>\n",
       "      <td>356</td>\n",
       "      <td>Quantitative Data Analyst/Developer</td>\n",
       "      <td>$77K-$132K (Glassdoor est.)</td>\n",
       "      <td>Job Description Quantitative Data Analyst/Deve...</td>\n",
       "      <td>5.0</td>\n",
       "      <td>Creative Data Resources\\n5.0</td>\n",
       "      <td>New York, NY</td>\n",
       "      <td>New York, NY</td>\n",
       "      <td>1 to 50 employees</td>\n",
       "      <td>1992</td>\n",
       "      <td>Company - Private</td>\n",
       "      <td>Staffing &amp; Outsourcing</td>\n",
       "      <td>Business Services</td>\n",
       "      <td>Unknown / Non-Applicable</td>\n",
       "      <td>-1</td>\n",
       "      <td>-1</td>\n",
       "    </tr>\n",
       "    <tr>\n",
       "      <th>510</th>\n",
       "      <td>510</td>\n",
       "      <td>Data Analyst Junior</td>\n",
       "      <td>$30K-$54K (Glassdoor est.)</td>\n",
       "      <td>Job Description\\nJob description\\nInterpret da...</td>\n",
       "      <td>5.0</td>\n",
       "      <td>Staffigo Technical Services, LLC\\n5.0</td>\n",
       "      <td>Gainesville, FL</td>\n",
       "      <td>Woodridge, IL</td>\n",
       "      <td>51 to 200 employees</td>\n",
       "      <td>2008</td>\n",
       "      <td>Company - Private</td>\n",
       "      <td>IT Services</td>\n",
       "      <td>Information Technology</td>\n",
       "      <td>$50 to $100 million (USD)</td>\n",
       "      <td>-1</td>\n",
       "      <td>-1</td>\n",
       "    </tr>\n",
       "  </tbody>\n",
       "</table>\n",
       "</div>"
      ],
      "text/plain": [
       "     Unnamed: 0                            Job Title  \\\n",
       "833         833                  Data Analyst Junior   \n",
       "505         505                  Junior Data Analyst   \n",
       "925         925               Data Warehouse Analyst   \n",
       "356         356  Quantitative Data Analyst/Developer   \n",
       "510         510                  Data Analyst Junior   \n",
       "\n",
       "                 Salary Estimate  \\\n",
       "833   $42K-$76K (Glassdoor est.)   \n",
       "505   $30K-$54K (Glassdoor est.)   \n",
       "925   $47K-$76K (Glassdoor est.)   \n",
       "356  $77K-$132K (Glassdoor est.)   \n",
       "510   $30K-$54K (Glassdoor est.)   \n",
       "\n",
       "                                       Job Description  Rating  \\\n",
       "833  Job Description\\nJob description\\nInterpret da...     5.0   \n",
       "505  Job Description\\nJob description\\nInterpret da...     5.0   \n",
       "925  Job description:\\nWorking within IT to transla...     5.0   \n",
       "356  Job Description Quantitative Data Analyst/Deve...     5.0   \n",
       "510  Job Description\\nJob description\\nInterpret da...     5.0   \n",
       "\n",
       "                              Company Name         Location   Headquarters  \\\n",
       "833  Staffigo Technical Services, LLC\\n5.0      Chicago, IL  Woodridge, IL   \n",
       "505  Staffigo Technical Services, LLC\\n5.0  Gainesville, FL  Woodridge, IL   \n",
       "925             Purity Technology LLC\\n5.0      Houston, TX    Cypress, TX   \n",
       "356           Creative Data Resources\\n5.0     New York, NY   New York, NY   \n",
       "510  Staffigo Technical Services, LLC\\n5.0  Gainesville, FL  Woodridge, IL   \n",
       "\n",
       "                    Size  Founded  Type of ownership                Industry  \\\n",
       "833  51 to 200 employees     2008  Company - Private             IT Services   \n",
       "505  51 to 200 employees     2008  Company - Private             IT Services   \n",
       "925    1 to 50 employees       -1  Company - Private                      -1   \n",
       "356    1 to 50 employees     1992  Company - Private  Staffing & Outsourcing   \n",
       "510  51 to 200 employees     2008  Company - Private             IT Services   \n",
       "\n",
       "                     Sector                    Revenue Competitors Easy Apply  \n",
       "833  Information Technology  $50 to $100 million (USD)          -1         -1  \n",
       "505  Information Technology  $50 to $100 million (USD)          -1         -1  \n",
       "925                      -1   Unknown / Non-Applicable          -1         -1  \n",
       "356       Business Services   Unknown / Non-Applicable          -1         -1  \n",
       "510  Information Technology  $50 to $100 million (USD)          -1         -1  "
      ]
     },
     "execution_count": 2,
     "metadata": {},
     "output_type": "execute_result"
    }
   ],
   "source": [
    "# salary parsing\n",
    "salary_df_v1 = salary_df.iloc[:1001]\n",
    "\n",
    "salary_df_v1.columns\n",
    "salary_df_v1=salary_df_v1.sort_values(by='Rating', ascending=False)\n",
    "\n",
    "salary_df_v1.head()"
   ]
  },
  {
   "cell_type": "code",
   "execution_count": 3,
   "id": "7d4d47be",
   "metadata": {},
   "outputs": [
    {
     "data": {
      "text/plain": [
       "$43K-$76K (Glassdoor est.)      31\n",
       "$60K-$110K (Glassdoor est.)     30\n",
       "$60K-$66K (Glassdoor est.)      30\n",
       "$42K-$76K (Glassdoor est.)      30\n",
       "$46K-$87K (Glassdoor est.)      30\n",
       "$42K-$66K (Glassdoor est.)      30\n",
       "$59K-$85K (Glassdoor est.)      30\n",
       "$51K-$88K (Glassdoor est.)      30\n",
       "$98K-$114K (Glassdoor est.)     30\n",
       "$97K-$129K (Glassdoor est.)     30\n",
       "$51K-$87K (Glassdoor est.)      30\n",
       "$43K-$69K (Glassdoor est.)      30\n",
       "$37K-$66K (Glassdoor est.)      30\n",
       "$27K-$52K (Glassdoor est.)      30\n",
       "$73K-$82K (Glassdoor est.)      29\n",
       "$41K-$78K (Glassdoor est.)      29\n",
       "$53K-$94K (Glassdoor est.)      29\n",
       "$67K-$92K (Glassdoor est.)      29\n",
       "$77K-$132K (Glassdoor est.)     29\n",
       "$65K-$81K (Glassdoor est.)      29\n",
       "$113K-$132K (Glassdoor est.)    29\n",
       "$57K-$103K (Glassdoor est.)     29\n",
       "$26K-$47K (Glassdoor est.)      29\n",
       "$55K-$103K (Glassdoor est.)     29\n",
       "$29K-$38K (Glassdoor est.)      29\n",
       "$37K-$70K (Glassdoor est.)      29\n",
       "$74K-$123K (Glassdoor est.)     28\n",
       "$35K-$45K (Glassdoor est.)      28\n",
       "$47K-$76K (Glassdoor est.)      28\n",
       "$42K-$74K (Glassdoor est.)      27\n",
       "$48K-$96K (Glassdoor est.)      22\n",
       "$49K-$112K (Glassdoor est.)     18\n",
       "$84K-$90K (Glassdoor est.)      18\n",
       "$68K-$87K (Glassdoor est.)      16\n",
       "$73K-$127K (Glassdoor est.)     14\n",
       "$45K-$88K (Glassdoor est.)      11\n",
       "$30K-$54K (Glassdoor est.)       8\n",
       "$42K-$63K (Glassdoor est.)       4\n",
       "$31K-$59K (Glassdoor est.)       4\n",
       "$47K-$81K (Glassdoor est.)       3\n",
       "$46K-$102K (Glassdoor est.)      3\n",
       "Name: Salary Estimate, dtype: int64"
      ]
     },
     "execution_count": 3,
     "metadata": {},
     "output_type": "execute_result"
    }
   ],
   "source": [
    "salary_df_v1['Salary Estimate'].value_counts()"
   ]
  },
  {
   "cell_type": "code",
   "execution_count": 8,
   "id": "78fc8985",
   "metadata": {},
   "outputs": [],
   "source": [
    "salary=salary_df_v1['Salary Estimate'].apply(lambda x: x.split('(')[0])"
   ]
  },
  {
   "cell_type": "code",
   "execution_count": 9,
   "id": "428dfc2d",
   "metadata": {},
   "outputs": [
    {
     "data": {
      "text/plain": [
       "833     $42K-$76K \n",
       "505     $30K-$54K \n",
       "925     $47K-$76K \n",
       "356    $77K-$132K \n",
       "510     $30K-$54K \n",
       "Name: Salary Estimate, dtype: object"
      ]
     },
     "execution_count": 9,
     "metadata": {},
     "output_type": "execute_result"
    }
   ],
   "source": [
    "salary.head()"
   ]
  },
  {
   "cell_type": "code",
   "execution_count": 10,
   "id": "0ff30dfd",
   "metadata": {},
   "outputs": [
    {
     "data": {
      "text/plain": [
       "(1001,)"
      ]
     },
     "execution_count": 10,
     "metadata": {},
     "output_type": "execute_result"
    }
   ],
   "source": [
    "salary.shape"
   ]
  },
  {
   "cell_type": "code",
   "execution_count": 19,
   "id": "f2ee8c1b",
   "metadata": {},
   "outputs": [],
   "source": [
    "salary_clean=salary.apply(lambda x: x.replace('$','').replace('K',''))"
   ]
  },
  {
   "cell_type": "code",
   "execution_count": 23,
   "id": "77090fd8",
   "metadata": {},
   "outputs": [
    {
     "data": {
      "text/plain": [
       "43-76       31\n",
       "43-69       30\n",
       "98-114      30\n",
       "27-52       30\n",
       "37-66       30\n",
       "60-66       30\n",
       "46-87       30\n",
       "59-85       30\n",
       "42-76       30\n",
       "51-88       30\n",
       "60-110      30\n",
       "51-87       30\n",
       "42-66       30\n",
       "97-129      30\n",
       "67-92       29\n",
       "29-38       29\n",
       "53-94       29\n",
       "41-78       29\n",
       "77-132      29\n",
       "113-132     29\n",
       "26-47       29\n",
       "55-103      29\n",
       "73-82       29\n",
       "65-81       29\n",
       "37-70       29\n",
       "57-103      29\n",
       "47-76       28\n",
       "35-45       28\n",
       "74-123      28\n",
       "42-74       27\n",
       "48-96       22\n",
       "84-90       18\n",
       "49-112      18\n",
       "68-87       16\n",
       "73-127      14\n",
       "45-88       11\n",
       "30-54        8\n",
       "42-63        4\n",
       "31-59        4\n",
       "46-102       3\n",
       "47-81        3\n",
       "Name: Salary Estimate, dtype: int64"
      ]
     },
     "execution_count": 23,
     "metadata": {},
     "output_type": "execute_result"
    }
   ],
   "source": [
    "salary_clean.value_counts()"
   ]
  },
  {
   "cell_type": "code",
   "execution_count": 26,
   "id": "ac7e1032",
   "metadata": {},
   "outputs": [],
   "source": [
    "salary_df_v1['min_salary']=salary_clean.apply(lambda x: int(x.split('-')[0]))\n",
    "salary_df_v1['max_salary']=salary_clean.apply(lambda x: int(x.split('-')[1]))\n"
   ]
  },
  {
   "cell_type": "code",
   "execution_count": 27,
   "id": "f028efad",
   "metadata": {},
   "outputs": [],
   "source": [
    "salary_df_v1['avg_clean']=(salary_df_v1.min_salary+salary_df_v1.max_salary)/2"
   ]
  },
  {
   "cell_type": "code",
   "execution_count": null,
   "id": "5f9344d5",
   "metadata": {},
   "outputs": [],
   "source": []
  }
 ],
 "metadata": {
  "kernelspec": {
   "display_name": "Python 3",
   "language": "python",
   "name": "python3"
  },
  "language_info": {
   "codemirror_mode": {
    "name": "ipython",
    "version": 3
   },
   "file_extension": ".py",
   "mimetype": "text/x-python",
   "name": "python",
   "nbconvert_exporter": "python",
   "pygments_lexer": "ipython3",
   "version": "3.8.8"
  }
 },
 "nbformat": 4,
 "nbformat_minor": 5
}
