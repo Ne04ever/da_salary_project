{
 "cells": [
  {
   "cell_type": "code",
   "execution_count": 1,
   "id": "ad41390a",
   "metadata": {},
   "outputs": [
    {
     "data": {
      "text/plain": [
       "(2253, 16)"
      ]
     },
     "execution_count": 1,
     "metadata": {},
     "output_type": "execute_result"
    }
   ],
   "source": [
    "import pandas as pd\n",
    "salary_df_path ='C:/Users/Neo4ever/Desktop/da_salary/DataAnalyst.csv' #downloaded form kaggle\n",
    "salary_df= pd.read_csv(salary_df_path)\n",
    "salary_df.shape\n",
    "\n"
   ]
  },
  {
   "cell_type": "code",
   "execution_count": 2,
   "id": "8e0db097",
   "metadata": {},
   "outputs": [
    {
     "data": {
      "text/html": [
       "<div>\n",
       "<style scoped>\n",
       "    .dataframe tbody tr th:only-of-type {\n",
       "        vertical-align: middle;\n",
       "    }\n",
       "\n",
       "    .dataframe tbody tr th {\n",
       "        vertical-align: top;\n",
       "    }\n",
       "\n",
       "    .dataframe thead th {\n",
       "        text-align: right;\n",
       "    }\n",
       "</style>\n",
       "<table border=\"1\" class=\"dataframe\">\n",
       "  <thead>\n",
       "    <tr style=\"text-align: right;\">\n",
       "      <th></th>\n",
       "      <th>Unnamed: 0</th>\n",
       "      <th>Job Title</th>\n",
       "      <th>Salary Estimate</th>\n",
       "      <th>Job Description</th>\n",
       "      <th>Rating</th>\n",
       "      <th>Company Name</th>\n",
       "      <th>Location</th>\n",
       "      <th>Headquarters</th>\n",
       "      <th>Size</th>\n",
       "      <th>Founded</th>\n",
       "      <th>Type of ownership</th>\n",
       "      <th>Industry</th>\n",
       "      <th>Sector</th>\n",
       "      <th>Revenue</th>\n",
       "      <th>Competitors</th>\n",
       "      <th>Easy Apply</th>\n",
       "    </tr>\n",
       "  </thead>\n",
       "  <tbody>\n",
       "    <tr>\n",
       "      <th>833</th>\n",
       "      <td>833</td>\n",
       "      <td>Data Analyst Junior</td>\n",
       "      <td>$42K-$76K (Glassdoor est.)</td>\n",
       "      <td>Job Description\\nJob description\\nInterpret da...</td>\n",
       "      <td>5.0</td>\n",
       "      <td>Staffigo Technical Services, LLC\\n5.0</td>\n",
       "      <td>Chicago, IL</td>\n",
       "      <td>Woodridge, IL</td>\n",
       "      <td>51 to 200 employees</td>\n",
       "      <td>2008</td>\n",
       "      <td>Company - Private</td>\n",
       "      <td>IT Services</td>\n",
       "      <td>Information Technology</td>\n",
       "      <td>$50 to $100 million (USD)</td>\n",
       "      <td>-1</td>\n",
       "      <td>-1</td>\n",
       "    </tr>\n",
       "    <tr>\n",
       "      <th>505</th>\n",
       "      <td>505</td>\n",
       "      <td>Junior Data Analyst</td>\n",
       "      <td>$30K-$54K (Glassdoor est.)</td>\n",
       "      <td>Job Description\\nJob description\\nInterpret da...</td>\n",
       "      <td>5.0</td>\n",
       "      <td>Staffigo Technical Services, LLC\\n5.0</td>\n",
       "      <td>Gainesville, FL</td>\n",
       "      <td>Woodridge, IL</td>\n",
       "      <td>51 to 200 employees</td>\n",
       "      <td>2008</td>\n",
       "      <td>Company - Private</td>\n",
       "      <td>IT Services</td>\n",
       "      <td>Information Technology</td>\n",
       "      <td>$50 to $100 million (USD)</td>\n",
       "      <td>-1</td>\n",
       "      <td>-1</td>\n",
       "    </tr>\n",
       "    <tr>\n",
       "      <th>925</th>\n",
       "      <td>925</td>\n",
       "      <td>Data Warehouse Analyst</td>\n",
       "      <td>$47K-$76K (Glassdoor est.)</td>\n",
       "      <td>Job description:\\nWorking within IT to transla...</td>\n",
       "      <td>5.0</td>\n",
       "      <td>Purity Technology LLC\\n5.0</td>\n",
       "      <td>Houston, TX</td>\n",
       "      <td>Cypress, TX</td>\n",
       "      <td>1 to 50 employees</td>\n",
       "      <td>-1</td>\n",
       "      <td>Company - Private</td>\n",
       "      <td>-1</td>\n",
       "      <td>-1</td>\n",
       "      <td>Unknown / Non-Applicable</td>\n",
       "      <td>-1</td>\n",
       "      <td>-1</td>\n",
       "    </tr>\n",
       "    <tr>\n",
       "      <th>356</th>\n",
       "      <td>356</td>\n",
       "      <td>Quantitative Data Analyst/Developer</td>\n",
       "      <td>$77K-$132K (Glassdoor est.)</td>\n",
       "      <td>Job Description Quantitative Data Analyst/Deve...</td>\n",
       "      <td>5.0</td>\n",
       "      <td>Creative Data Resources\\n5.0</td>\n",
       "      <td>New York, NY</td>\n",
       "      <td>New York, NY</td>\n",
       "      <td>1 to 50 employees</td>\n",
       "      <td>1992</td>\n",
       "      <td>Company - Private</td>\n",
       "      <td>Staffing &amp; Outsourcing</td>\n",
       "      <td>Business Services</td>\n",
       "      <td>Unknown / Non-Applicable</td>\n",
       "      <td>-1</td>\n",
       "      <td>-1</td>\n",
       "    </tr>\n",
       "    <tr>\n",
       "      <th>510</th>\n",
       "      <td>510</td>\n",
       "      <td>Data Analyst Junior</td>\n",
       "      <td>$30K-$54K (Glassdoor est.)</td>\n",
       "      <td>Job Description\\nJob description\\nInterpret da...</td>\n",
       "      <td>5.0</td>\n",
       "      <td>Staffigo Technical Services, LLC\\n5.0</td>\n",
       "      <td>Gainesville, FL</td>\n",
       "      <td>Woodridge, IL</td>\n",
       "      <td>51 to 200 employees</td>\n",
       "      <td>2008</td>\n",
       "      <td>Company - Private</td>\n",
       "      <td>IT Services</td>\n",
       "      <td>Information Technology</td>\n",
       "      <td>$50 to $100 million (USD)</td>\n",
       "      <td>-1</td>\n",
       "      <td>-1</td>\n",
       "    </tr>\n",
       "  </tbody>\n",
       "</table>\n",
       "</div>"
      ],
      "text/plain": [
       "     Unnamed: 0                            Job Title  \\\n",
       "833         833                  Data Analyst Junior   \n",
       "505         505                  Junior Data Analyst   \n",
       "925         925               Data Warehouse Analyst   \n",
       "356         356  Quantitative Data Analyst/Developer   \n",
       "510         510                  Data Analyst Junior   \n",
       "\n",
       "                 Salary Estimate  \\\n",
       "833   $42K-$76K (Glassdoor est.)   \n",
       "505   $30K-$54K (Glassdoor est.)   \n",
       "925   $47K-$76K (Glassdoor est.)   \n",
       "356  $77K-$132K (Glassdoor est.)   \n",
       "510   $30K-$54K (Glassdoor est.)   \n",
       "\n",
       "                                       Job Description  Rating  \\\n",
       "833  Job Description\\nJob description\\nInterpret da...     5.0   \n",
       "505  Job Description\\nJob description\\nInterpret da...     5.0   \n",
       "925  Job description:\\nWorking within IT to transla...     5.0   \n",
       "356  Job Description Quantitative Data Analyst/Deve...     5.0   \n",
       "510  Job Description\\nJob description\\nInterpret da...     5.0   \n",
       "\n",
       "                              Company Name         Location   Headquarters  \\\n",
       "833  Staffigo Technical Services, LLC\\n5.0      Chicago, IL  Woodridge, IL   \n",
       "505  Staffigo Technical Services, LLC\\n5.0  Gainesville, FL  Woodridge, IL   \n",
       "925             Purity Technology LLC\\n5.0      Houston, TX    Cypress, TX   \n",
       "356           Creative Data Resources\\n5.0     New York, NY   New York, NY   \n",
       "510  Staffigo Technical Services, LLC\\n5.0  Gainesville, FL  Woodridge, IL   \n",
       "\n",
       "                    Size  Founded  Type of ownership                Industry  \\\n",
       "833  51 to 200 employees     2008  Company - Private             IT Services   \n",
       "505  51 to 200 employees     2008  Company - Private             IT Services   \n",
       "925    1 to 50 employees       -1  Company - Private                      -1   \n",
       "356    1 to 50 employees     1992  Company - Private  Staffing & Outsourcing   \n",
       "510  51 to 200 employees     2008  Company - Private             IT Services   \n",
       "\n",
       "                     Sector                    Revenue Competitors Easy Apply  \n",
       "833  Information Technology  $50 to $100 million (USD)          -1         -1  \n",
       "505  Information Technology  $50 to $100 million (USD)          -1         -1  \n",
       "925                      -1   Unknown / Non-Applicable          -1         -1  \n",
       "356       Business Services   Unknown / Non-Applicable          -1         -1  \n",
       "510  Information Technology  $50 to $100 million (USD)          -1         -1  "
      ]
     },
     "execution_count": 2,
     "metadata": {},
     "output_type": "execute_result"
    }
   ],
   "source": [
    "# salary parsing\n",
    "salary_df_v1 = salary_df.iloc[:1001]\n",
    "\n",
    "salary_df_v1.columns\n",
    "salary_df_v1=salary_df_v1.sort_values(by='Rating', ascending=False)\n",
    "\n",
    "salary_df_v1.head()"
   ]
  },
  {
   "cell_type": "code",
   "execution_count": 3,
   "id": "7d4d47be",
   "metadata": {},
   "outputs": [
    {
     "data": {
      "text/plain": [
       "$43K-$76K (Glassdoor est.)      31\n",
       "$42K-$76K (Glassdoor est.)      30\n",
       "$51K-$87K (Glassdoor est.)      30\n",
       "$46K-$87K (Glassdoor est.)      30\n",
       "$51K-$88K (Glassdoor est.)      30\n",
       "$37K-$66K (Glassdoor est.)      30\n",
       "$60K-$66K (Glassdoor est.)      30\n",
       "$42K-$66K (Glassdoor est.)      30\n",
       "$98K-$114K (Glassdoor est.)     30\n",
       "$27K-$52K (Glassdoor est.)      30\n",
       "$97K-$129K (Glassdoor est.)     30\n",
       "$43K-$69K (Glassdoor est.)      30\n",
       "$60K-$110K (Glassdoor est.)     30\n",
       "$59K-$85K (Glassdoor est.)      30\n",
       "$26K-$47K (Glassdoor est.)      29\n",
       "$41K-$78K (Glassdoor est.)      29\n",
       "$37K-$70K (Glassdoor est.)      29\n",
       "$53K-$94K (Glassdoor est.)      29\n",
       "$57K-$103K (Glassdoor est.)     29\n",
       "$113K-$132K (Glassdoor est.)    29\n",
       "$29K-$38K (Glassdoor est.)      29\n",
       "$65K-$81K (Glassdoor est.)      29\n",
       "$67K-$92K (Glassdoor est.)      29\n",
       "$73K-$82K (Glassdoor est.)      29\n",
       "$77K-$132K (Glassdoor est.)     29\n",
       "$55K-$103K (Glassdoor est.)     29\n",
       "$47K-$76K (Glassdoor est.)      28\n",
       "$74K-$123K (Glassdoor est.)     28\n",
       "$35K-$45K (Glassdoor est.)      28\n",
       "$42K-$74K (Glassdoor est.)      27\n",
       "$48K-$96K (Glassdoor est.)      22\n",
       "$84K-$90K (Glassdoor est.)      18\n",
       "$49K-$112K (Glassdoor est.)     18\n",
       "$68K-$87K (Glassdoor est.)      16\n",
       "$73K-$127K (Glassdoor est.)     14\n",
       "$45K-$88K (Glassdoor est.)      11\n",
       "$30K-$54K (Glassdoor est.)       8\n",
       "$31K-$59K (Glassdoor est.)       4\n",
       "$42K-$63K (Glassdoor est.)       4\n",
       "$47K-$81K (Glassdoor est.)       3\n",
       "$46K-$102K (Glassdoor est.)      3\n",
       "Name: Salary Estimate, dtype: int64"
      ]
     },
     "execution_count": 3,
     "metadata": {},
     "output_type": "execute_result"
    }
   ],
   "source": [
    "salary_df_v1['Salary Estimate'].value_counts()"
   ]
  },
  {
   "cell_type": "code",
   "execution_count": 4,
   "id": "f6ed255f",
   "metadata": {},
   "outputs": [],
   "source": [
    "salary=salary_df_v1['Salary Estimate'].apply(lambda x: x.split('(')[0])"
   ]
  },
  {
   "cell_type": "code",
   "execution_count": 5,
   "id": "8fe837a9",
   "metadata": {},
   "outputs": [
    {
     "data": {
      "text/plain": [
       "833     $42K-$76K \n",
       "505     $30K-$54K \n",
       "925     $47K-$76K \n",
       "356    $77K-$132K \n",
       "510     $30K-$54K \n",
       "Name: Salary Estimate, dtype: object"
      ]
     },
     "execution_count": 5,
     "metadata": {},
     "output_type": "execute_result"
    }
   ],
   "source": [
    "salary.head()"
   ]
  },
  {
   "cell_type": "code",
   "execution_count": 6,
   "id": "b4b0dbf9",
   "metadata": {},
   "outputs": [
    {
     "data": {
      "text/plain": [
       "(1001,)"
      ]
     },
     "execution_count": 6,
     "metadata": {},
     "output_type": "execute_result"
    }
   ],
   "source": [
    "salary.shape"
   ]
  },
  {
   "cell_type": "code",
   "execution_count": 7,
   "id": "8fa198e3",
   "metadata": {},
   "outputs": [],
   "source": [
    "salary_clean=salary.apply(lambda x: x.replace('$','').replace('K',''))"
   ]
  },
  {
   "cell_type": "code",
   "execution_count": 8,
   "id": "21f33961",
   "metadata": {},
   "outputs": [
    {
     "data": {
      "text/plain": [
       "43-76       31\n",
       "98-114      30\n",
       "42-66       30\n",
       "60-110      30\n",
       "42-76       30\n",
       "60-66       30\n",
       "59-85       30\n",
       "27-52       30\n",
       "46-87       30\n",
       "51-87       30\n",
       "97-129      30\n",
       "51-88       30\n",
       "43-69       30\n",
       "37-66       30\n",
       "37-70       29\n",
       "53-94       29\n",
       "77-132      29\n",
       "67-92       29\n",
       "26-47       29\n",
       "55-103      29\n",
       "73-82       29\n",
       "65-81       29\n",
       "113-132     29\n",
       "29-38       29\n",
       "41-78       29\n",
       "57-103      29\n",
       "35-45       28\n",
       "47-76       28\n",
       "74-123      28\n",
       "42-74       27\n",
       "48-96       22\n",
       "49-112      18\n",
       "84-90       18\n",
       "68-87       16\n",
       "73-127      14\n",
       "45-88       11\n",
       "30-54        8\n",
       "42-63        4\n",
       "31-59        4\n",
       "47-81        3\n",
       "46-102       3\n",
       "Name: Salary Estimate, dtype: int64"
      ]
     },
     "execution_count": 8,
     "metadata": {},
     "output_type": "execute_result"
    }
   ],
   "source": [
    "salary_clean.value_counts()"
   ]
  },
  {
   "cell_type": "code",
   "execution_count": 9,
   "id": "68bac8b6",
   "metadata": {},
   "outputs": [],
   "source": [
    "salary_df_v1['min_salary']=salary_clean.apply(lambda x: int(x.split('-')[0]))\n",
    "salary_df_v1['max_salary']=salary_clean.apply(lambda x: int(x.split('-')[1]))\n"
   ]
  },
  {
   "cell_type": "code",
   "execution_count": 10,
   "id": "e03e5ab6",
   "metadata": {},
   "outputs": [],
   "source": [
    "salary_df_v1['avg_clean']=(salary_df_v1.min_salary+salary_df_v1.max_salary)/2"
   ]
  },
  {
   "cell_type": "code",
   "execution_count": 11,
   "id": "7b1d2235",
   "metadata": {},
   "outputs": [
    {
     "data": {
      "text/html": [
       "<div>\n",
       "<style scoped>\n",
       "    .dataframe tbody tr th:only-of-type {\n",
       "        vertical-align: middle;\n",
       "    }\n",
       "\n",
       "    .dataframe tbody tr th {\n",
       "        vertical-align: top;\n",
       "    }\n",
       "\n",
       "    .dataframe thead th {\n",
       "        text-align: right;\n",
       "    }\n",
       "</style>\n",
       "<table border=\"1\" class=\"dataframe\">\n",
       "  <thead>\n",
       "    <tr style=\"text-align: right;\">\n",
       "      <th></th>\n",
       "      <th>Unnamed: 0</th>\n",
       "      <th>Job Title</th>\n",
       "      <th>Salary Estimate</th>\n",
       "      <th>Job Description</th>\n",
       "      <th>Rating</th>\n",
       "      <th>Company Name</th>\n",
       "      <th>Location</th>\n",
       "      <th>Headquarters</th>\n",
       "      <th>Size</th>\n",
       "      <th>Founded</th>\n",
       "      <th>Type of ownership</th>\n",
       "      <th>Industry</th>\n",
       "      <th>Sector</th>\n",
       "      <th>Revenue</th>\n",
       "      <th>Competitors</th>\n",
       "      <th>Easy Apply</th>\n",
       "      <th>min_salary</th>\n",
       "      <th>max_salary</th>\n",
       "      <th>avg_clean</th>\n",
       "    </tr>\n",
       "  </thead>\n",
       "  <tbody>\n",
       "    <tr>\n",
       "      <th>833</th>\n",
       "      <td>833</td>\n",
       "      <td>Data Analyst Junior</td>\n",
       "      <td>$42K-$76K (Glassdoor est.)</td>\n",
       "      <td>Job Description\\nJob description\\nInterpret da...</td>\n",
       "      <td>5.0</td>\n",
       "      <td>Staffigo Technical Services, LLC\\n5.0</td>\n",
       "      <td>Chicago, IL</td>\n",
       "      <td>Woodridge, IL</td>\n",
       "      <td>51 to 200 employees</td>\n",
       "      <td>2008</td>\n",
       "      <td>Company - Private</td>\n",
       "      <td>IT Services</td>\n",
       "      <td>Information Technology</td>\n",
       "      <td>$50 to $100 million (USD)</td>\n",
       "      <td>-1</td>\n",
       "      <td>-1</td>\n",
       "      <td>42</td>\n",
       "      <td>76</td>\n",
       "      <td>59.0</td>\n",
       "    </tr>\n",
       "    <tr>\n",
       "      <th>505</th>\n",
       "      <td>505</td>\n",
       "      <td>Junior Data Analyst</td>\n",
       "      <td>$30K-$54K (Glassdoor est.)</td>\n",
       "      <td>Job Description\\nJob description\\nInterpret da...</td>\n",
       "      <td>5.0</td>\n",
       "      <td>Staffigo Technical Services, LLC\\n5.0</td>\n",
       "      <td>Gainesville, FL</td>\n",
       "      <td>Woodridge, IL</td>\n",
       "      <td>51 to 200 employees</td>\n",
       "      <td>2008</td>\n",
       "      <td>Company - Private</td>\n",
       "      <td>IT Services</td>\n",
       "      <td>Information Technology</td>\n",
       "      <td>$50 to $100 million (USD)</td>\n",
       "      <td>-1</td>\n",
       "      <td>-1</td>\n",
       "      <td>30</td>\n",
       "      <td>54</td>\n",
       "      <td>42.0</td>\n",
       "    </tr>\n",
       "    <tr>\n",
       "      <th>925</th>\n",
       "      <td>925</td>\n",
       "      <td>Data Warehouse Analyst</td>\n",
       "      <td>$47K-$76K (Glassdoor est.)</td>\n",
       "      <td>Job description:\\nWorking within IT to transla...</td>\n",
       "      <td>5.0</td>\n",
       "      <td>Purity Technology LLC\\n5.0</td>\n",
       "      <td>Houston, TX</td>\n",
       "      <td>Cypress, TX</td>\n",
       "      <td>1 to 50 employees</td>\n",
       "      <td>-1</td>\n",
       "      <td>Company - Private</td>\n",
       "      <td>-1</td>\n",
       "      <td>-1</td>\n",
       "      <td>Unknown / Non-Applicable</td>\n",
       "      <td>-1</td>\n",
       "      <td>-1</td>\n",
       "      <td>47</td>\n",
       "      <td>76</td>\n",
       "      <td>61.5</td>\n",
       "    </tr>\n",
       "    <tr>\n",
       "      <th>356</th>\n",
       "      <td>356</td>\n",
       "      <td>Quantitative Data Analyst/Developer</td>\n",
       "      <td>$77K-$132K (Glassdoor est.)</td>\n",
       "      <td>Job Description Quantitative Data Analyst/Deve...</td>\n",
       "      <td>5.0</td>\n",
       "      <td>Creative Data Resources\\n5.0</td>\n",
       "      <td>New York, NY</td>\n",
       "      <td>New York, NY</td>\n",
       "      <td>1 to 50 employees</td>\n",
       "      <td>1992</td>\n",
       "      <td>Company - Private</td>\n",
       "      <td>Staffing &amp; Outsourcing</td>\n",
       "      <td>Business Services</td>\n",
       "      <td>Unknown / Non-Applicable</td>\n",
       "      <td>-1</td>\n",
       "      <td>-1</td>\n",
       "      <td>77</td>\n",
       "      <td>132</td>\n",
       "      <td>104.5</td>\n",
       "    </tr>\n",
       "    <tr>\n",
       "      <th>510</th>\n",
       "      <td>510</td>\n",
       "      <td>Data Analyst Junior</td>\n",
       "      <td>$30K-$54K (Glassdoor est.)</td>\n",
       "      <td>Job Description\\nJob description\\nInterpret da...</td>\n",
       "      <td>5.0</td>\n",
       "      <td>Staffigo Technical Services, LLC\\n5.0</td>\n",
       "      <td>Gainesville, FL</td>\n",
       "      <td>Woodridge, IL</td>\n",
       "      <td>51 to 200 employees</td>\n",
       "      <td>2008</td>\n",
       "      <td>Company - Private</td>\n",
       "      <td>IT Services</td>\n",
       "      <td>Information Technology</td>\n",
       "      <td>$50 to $100 million (USD)</td>\n",
       "      <td>-1</td>\n",
       "      <td>-1</td>\n",
       "      <td>30</td>\n",
       "      <td>54</td>\n",
       "      <td>42.0</td>\n",
       "    </tr>\n",
       "  </tbody>\n",
       "</table>\n",
       "</div>"
      ],
      "text/plain": [
       "     Unnamed: 0                            Job Title  \\\n",
       "833         833                  Data Analyst Junior   \n",
       "505         505                  Junior Data Analyst   \n",
       "925         925               Data Warehouse Analyst   \n",
       "356         356  Quantitative Data Analyst/Developer   \n",
       "510         510                  Data Analyst Junior   \n",
       "\n",
       "                 Salary Estimate  \\\n",
       "833   $42K-$76K (Glassdoor est.)   \n",
       "505   $30K-$54K (Glassdoor est.)   \n",
       "925   $47K-$76K (Glassdoor est.)   \n",
       "356  $77K-$132K (Glassdoor est.)   \n",
       "510   $30K-$54K (Glassdoor est.)   \n",
       "\n",
       "                                       Job Description  Rating  \\\n",
       "833  Job Description\\nJob description\\nInterpret da...     5.0   \n",
       "505  Job Description\\nJob description\\nInterpret da...     5.0   \n",
       "925  Job description:\\nWorking within IT to transla...     5.0   \n",
       "356  Job Description Quantitative Data Analyst/Deve...     5.0   \n",
       "510  Job Description\\nJob description\\nInterpret da...     5.0   \n",
       "\n",
       "                              Company Name         Location   Headquarters  \\\n",
       "833  Staffigo Technical Services, LLC\\n5.0      Chicago, IL  Woodridge, IL   \n",
       "505  Staffigo Technical Services, LLC\\n5.0  Gainesville, FL  Woodridge, IL   \n",
       "925             Purity Technology LLC\\n5.0      Houston, TX    Cypress, TX   \n",
       "356           Creative Data Resources\\n5.0     New York, NY   New York, NY   \n",
       "510  Staffigo Technical Services, LLC\\n5.0  Gainesville, FL  Woodridge, IL   \n",
       "\n",
       "                    Size  Founded  Type of ownership                Industry  \\\n",
       "833  51 to 200 employees     2008  Company - Private             IT Services   \n",
       "505  51 to 200 employees     2008  Company - Private             IT Services   \n",
       "925    1 to 50 employees       -1  Company - Private                      -1   \n",
       "356    1 to 50 employees     1992  Company - Private  Staffing & Outsourcing   \n",
       "510  51 to 200 employees     2008  Company - Private             IT Services   \n",
       "\n",
       "                     Sector                    Revenue Competitors Easy Apply  \\\n",
       "833  Information Technology  $50 to $100 million (USD)          -1         -1   \n",
       "505  Information Technology  $50 to $100 million (USD)          -1         -1   \n",
       "925                      -1   Unknown / Non-Applicable          -1         -1   \n",
       "356       Business Services   Unknown / Non-Applicable          -1         -1   \n",
       "510  Information Technology  $50 to $100 million (USD)          -1         -1   \n",
       "\n",
       "     min_salary  max_salary  avg_clean  \n",
       "833          42          76       59.0  \n",
       "505          30          54       42.0  \n",
       "925          47          76       61.5  \n",
       "356          77         132      104.5  \n",
       "510          30          54       42.0  "
      ]
     },
     "execution_count": 11,
     "metadata": {},
     "output_type": "execute_result"
    }
   ],
   "source": [
    "salary_df_v1.head()"
   ]
  },
  {
   "cell_type": "code",
   "execution_count": 12,
   "id": "dcb8d300",
   "metadata": {},
   "outputs": [
    {
     "data": {
      "text/plain": [
       "-1.0    130\n",
       " 3.6     70\n",
       " 4.0     59\n",
       " 3.8     58\n",
       " 5.0     58\n",
       " 3.9     56\n",
       " 3.7     55\n",
       " 3.5     53\n",
       " 3.2     49\n",
       " 3.4     49\n",
       " 3.3     47\n",
       " 3.1     38\n",
       " 4.1     37\n",
       " 3.0     34\n",
       " 4.3     19\n",
       " 4.5     17\n",
       " 4.2     17\n",
       " 2.9     17\n",
       " 4.8     15\n",
       " 4.6     15\n",
       " 2.7     14\n",
       " 2.5     13\n",
       " 4.7     13\n",
       " 4.4     13\n",
       " 2.8     13\n",
       " 4.9     11\n",
       " 1.0      9\n",
       " 2.4      5\n",
       " 2.0      5\n",
       " 2.6      3\n",
       " 2.1      3\n",
       " 2.3      3\n",
       " 2.2      2\n",
       " 1.7      1\n",
       "Name: Rating, dtype: int64"
      ]
     },
     "execution_count": 12,
     "metadata": {},
     "output_type": "execute_result"
    }
   ],
   "source": [
    "# company parsing\n",
    "salary_df_v1['Rating'].value_counts()"
   ]
  },
  {
   "cell_type": "code",
   "execution_count": 13,
   "id": "fbd179c2",
   "metadata": {},
   "outputs": [],
   "source": [
    "salary_df_v1['company_txt']=salary_df_v1.apply(lambda x: x['Company Name'] if x['Rating'] <0 else x['Company Name'][:-3],axis=1 )"
   ]
  },
  {
   "cell_type": "code",
   "execution_count": 14,
   "id": "f6d6b9b3",
   "metadata": {},
   "outputs": [
    {
     "data": {
      "text/plain": [
       "(1001, 20)"
      ]
     },
     "execution_count": 14,
     "metadata": {},
     "output_type": "execute_result"
    }
   ],
   "source": [
    "salary_df_v1.head()\n",
    "salary_df_v1.shape\n"
   ]
  },
  {
   "cell_type": "code",
   "execution_count": 15,
   "id": "ca1fbf07",
   "metadata": {},
   "outputs": [],
   "source": [
    "#state the job is in\n",
    "salary_df_v1['state']=salary_df_v1['Location'].apply(lambda x: x.split(',')[1])"
   ]
  },
  {
   "cell_type": "code",
   "execution_count": 16,
   "id": "fcc22238",
   "metadata": {},
   "outputs": [],
   "source": [
    "salary_df_v1['same_state']=salary_df_v1.apply(lambda x: 1 if x.Location == x.Headquarters else 0 ,axis=1)"
   ]
  },
  {
   "cell_type": "code",
   "execution_count": 17,
   "id": "b724beee",
   "metadata": {},
   "outputs": [
    {
     "data": {
      "text/plain": [
       "dtype('int64')"
      ]
     },
     "execution_count": 17,
     "metadata": {},
     "output_type": "execute_result"
    }
   ],
   "source": [
    "salary_df_v1.Founded.dtypes"
   ]
  },
  {
   "cell_type": "code",
   "execution_count": 18,
   "id": "872b4b31",
   "metadata": {},
   "outputs": [],
   "source": [
    "salary_df_v1['company_age']=salary_df_v1.Founded.apply(lambda x: x if x<1 else 2021-x)"
   ]
  },
  {
   "cell_type": "code",
   "execution_count": 20,
   "id": "7bac19c3",
   "metadata": {},
   "outputs": [
    {
     "data": {
      "text/plain": [
       "\"Are you eager to roll up your sleeves and harness data to drive policy change? Do you enjoy sifting through complex datasets to illuminate trends and insights? Do you see yourself working for a values-driven organization with a vision to tackle the most pressing injustices of our day?\\n\\nWe are looking to hire a bright, hard-working, and creative individual with strong data management skills and a demonstrated commitment to immigrant's rights. The Data Analyst will assist with analysis and reporting needs for Veras Center on Immigration and Justice (CIJ), working across its current projects and future Vera initiatives.\\n\\nWho we are:\\n\\nFounded in 1961, The Vera Institute is an independent, non-partisan, nonprofit organization that combines expertise in research, technical assistance, and demonstration projects to assist leaders in government and civil society examine justice policy and practice, and improve the systems people rely on for justice and safety.\\nWe study problems that impede human dignity and justice.\\nWe pilot solutions that are at once transformative and achievable.\\nWe engage diverse communities in informed debate.\\nAnd we harness the power of evidence to drive effective policy and practice\\nWhat were doing:\\n\\nWe are helping to build a movementamong government leaders, advocates, and the immigration legal services communitytowards universal legal representation for immigrants facing deportation. In the face of stepped-up immigration enforcement, millions of non-citizens are at risk of extended detention and permanent separation from their families and communities. Veras Center on Immigration and Justice (CIJ) partners with government, non-profit partners, and communities to improve government systems that affect immigrants and their families. CIJ administers several nationwide legal services programs for immigrants facing deportation, develops and implements pilot programs, provides technical assistance, and conducts independent research and evaluation.\\n\\nThats where you come in:\\nThe Data Analyst will support the Centers programmatic efforts through regular monitoring and reporting of federal government and subcontractor data. CIJ manages several proprietary databases that run on AWS and Caspio and uses SQL, R, and Python to manage data. This is an opportunity to help shape an innovative national research and policy agenda as part of a dedicated team of experts working to improve access to justice for non-citizens.\\n\\nVera seeks to hire a Data Analyst to work on various data management projects with its Center on Immigration and Justice (CIJ). In collaboration with other Data Analysts, this position will involve work across several projects, such as the Unaccompanied Childrens Program (UCP), a program to increase legal representation for immigrant children facing deportation without a parent or legal guardian. The position may cover additional duties for the Legal Orientation Program for Custodians (LOPC), which educates the custodians of unaccompanied children about their rights and the immigration court process.\\n\\nAbout the role:\\n\\nAs a Data Analyst, you will report to a member of the research team and work in close collaboration with other Vera staff on ongoing database management, monitoring, reporting, and analysis projects. Youll support the team by taking ownership of ongoing monitoring and reporting tasks involving large data sets. Other principal responsibilities will include:\\nSupporting research staff by preparing large datasets for analysis, including merging, cleaning, and recoding data;\\nProviding insights into program performance through summary statistics and performance indicators;\\nProducing timely reports on Vera projects for team members and stakeholders;\\nImproving recurring reporting processes by optimizing code and producing subsequent documentation;\\nCoordinating database management tasks such as participating in new database design, modifying existing databases, and communicating with outside engineers and subcontractors;\\nDeveloping codebooks and delivering user trainings through webinars and database guides;\\nBuilding and maintaining interactive dashboards;\\nDocumenting and correcting data quality issues;\\nWorking with supervisors to prioritize program needs;\\nAssisting on other projects and tasks as assigned.\\nAbout you:\\n\\nYoure committed to improving issues affecting immigrants in the United States. Applicants with personal experiences with the immigration system are especially encouraged to apply.\\n\\nYoure just getting started in your career and have 1 2 years of professional or internship experience working with large datasets and preparing data for analysis.\\n\\nYou have a real enthusiasm for working with data.\\n\\nYou are comfortable writing queries in SQL, R, and/or Python, or have a solid foundation coding in other programming languages used to manipulate data. Experience working collaboratively using tools like Git/GitHub is a plus.\\n\\nYou have exceptional attention to detail, strong problem-solving ability and logical reasoning skills, and the ability to detect anomalies in data.\\n\\nYoure able to work on multiple projects effectively and efficiently, both independently and collaboratively with a team.\\n\\nThis position involves working with secure data that may require government security clearance. That clearance is restricted to U.S. citizens and citizens of countries that are party to collective defense agreements with the U.S. The list of those countries is detailed on this webpage. An additional requirement of that clearance is residence in the United States for at least three of the last five years.\\n\\nHow to apply:\\n\\nPlease submit cover letter and resume. Applications will be considered on a rolling basis until position is filled. Online submission in PDF format is preferred. Applications with no cover letter attached will not be considered. The cover letter should address your interest in CIJ and this position.\\n\\nHowever, if necessary, materials may be mailed or faxed to\\n\\nATTN: Human Resources / CIJ Data Analyst Recruitment\\n\\nVera Institute of Justice\\n\\n34 35th St, Suite 4-2A\\n\\nBrooklyn, NY 11232\\n\\nFax: (212) 941-9407\\n\\nPlease use only one method (online, mail or fax) of submission.\\n\\nNo phone calls, please. Only applicants selected for interviews will be contacted.\\n\\nVera is an equal opportunity/affirmative action employer. All qualified applicants will be considered for employment without unlawful discrimination based on race, color, creed, national origin, sex, age, disability, marital status, sexual orientation, military status, prior record of arrest or conviction, citizenship status, current employment status, or caregiver status.\\n\\nVera works to advance justice, particularly racial justice, in an increasingly multicultural country and globally connected world. We value diverse experiences, including with regard to educational background and justice system contact, and depend on a diverse staff to carry out our mission.\\n\\nFor more information about Vera and CIJs work, please visit www.vera.org.\\n\\nPowered by JazzHR\""
      ]
     },
     "execution_count": 20,
     "metadata": {},
     "output_type": "execute_result"
    }
   ],
   "source": [
    "salary_df_v1['Job Description'][0]"
   ]
  },
  {
   "cell_type": "code",
   "execution_count": 25,
   "id": "c76e9ea0",
   "metadata": {},
   "outputs": [
    {
     "data": {
      "text/plain": [
       "0    700\n",
       "1    301\n",
       "Name: python, dtype: int64"
      ]
     },
     "execution_count": 25,
     "metadata": {},
     "output_type": "execute_result"
    }
   ],
   "source": [
    "# parsing out job description\n",
    "\n",
    "    #python\n",
    "salary_df_v1['python']=salary_df_v1['Job Description'].apply(lambda x: 1 if 'python' in x.lower() else 0)\n",
    "#salary_df_v1['python'].value_counts()\n",
    "\n",
    "    #sql\n",
    "salary_df_v1['sql']=salary_df_v1['Job Description'].apply(lambda x: 1 if 'sql' in x.lower() else 0)\n",
    "#salary_df_v1['sql'].value_counts()\n",
    "\n",
    "   #r\n",
    "salary_df_v1['r']=salary_df_v1['Job Description'].apply(lambda x: 1 if 'r' in x.lower() or 'r studio' in x.lower() or 'r-studio' else 0)\n",
    "#salary_df_v1['r'].value_counts()\n",
    "\n",
    "    #aws\n",
    "salary_df_v1['aws']=salary_df_v1['Job Description'].apply(lambda x: 1 if 'sql' in x.lower() else 0)\n",
    "#salary_df_v1['aws'].value_counts()\n",
    "\n",
    "\n",
    "\n"
   ]
  },
  {
   "cell_type": "code",
   "execution_count": 26,
   "id": "d1380fe5",
   "metadata": {},
   "outputs": [
    {
     "data": {
      "text/plain": [
       "Index(['Unnamed: 0', 'Job Title', 'Salary Estimate', 'Job Description',\n",
       "       'Rating', 'Company Name', 'Location', 'Headquarters', 'Size', 'Founded',\n",
       "       'Type of ownership', 'Industry', 'Sector', 'Revenue', 'Competitors',\n",
       "       'Easy Apply', 'min_salary', 'max_salary', 'avg_clean', 'company_txt',\n",
       "       'state', 'same_state', 'company_age', 'python', 'sql', 'r', 'aws'],\n",
       "      dtype='object')"
      ]
     },
     "execution_count": 26,
     "metadata": {},
     "output_type": "execute_result"
    }
   ],
   "source": [
    "salary_df_v1.columns\n",
    "\n"
   ]
  },
  {
   "cell_type": "code",
   "execution_count": 27,
   "id": "61d10d7c",
   "metadata": {},
   "outputs": [],
   "source": [
    "salary_out=salary_df_v1.drop(['Unnamed: 0'],axis=1)\n",
    "salary_out.to_csv('clean_df',index=False)"
   ]
  }
 ],
 "metadata": {
  "kernelspec": {
   "display_name": "Python 3",
   "language": "python",
   "name": "python3"
  },
  "language_info": {
   "codemirror_mode": {
    "name": "ipython",
    "version": 3
   },
   "file_extension": ".py",
   "mimetype": "text/x-python",
   "name": "python",
   "nbconvert_exporter": "python",
   "pygments_lexer": "ipython3",
   "version": "3.8.8"
  }
 },
 "nbformat": 4,
 "nbformat_minor": 5
}
